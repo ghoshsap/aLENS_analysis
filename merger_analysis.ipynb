{
 "cells": [
  {
   "cell_type": "markdown",
   "metadata": {},
   "source": [
    "# aster merger analysis"
   ]
  },
  {
   "cell_type": "markdown",
   "metadata": {},
   "source": [
    "#1 Export .avi file of motor channel from paraview. \n",
    "#2 Load the video in Fiji\n",
    "#3 Convert into 8-bit format \"Image -> Type -> 8 bit\"\n",
    "#4 Apply gaussian blur \"Process -> Filters -> Gaussian blur...(sigma (radius) = 2)\"\n",
    "#5 Use Roi 1-click Tools to select a box of fixed dimension (400 x 400) to select only the part of movie where        aster of interest are present. \n",
    "#6 use \"ctrl + shift + D\" to crop the slices. Uncheck Duplicate slices tick-box. \n",
    "#7 \"Image -> Stacks -> Tools -> Concatenate..\" to make tiff stack of cropped slices. \n",
    "\n"
   ]
  },
  {
   "cell_type": "code",
   "execution_count": 114,
   "metadata": {},
   "outputs": [],
   "source": [
    "import os\n",
    "pwd = os.getcwd()\n",
    "\n",
    "k_off = 0.1\n",
    "data_dir = f\"{pwd}/../../{k_off}/analysis\""
   ]
  },
  {
   "cell_type": "code",
   "execution_count": 115,
   "metadata": {},
   "outputs": [],
   "source": [
    "from PIL import Image\n",
    "import numpy as np\n",
    "from scipy.ndimage import gaussian_filter\n",
    "from skimage.filters import threshold_otsu\n",
    "from skimage.measure import regionprops, label\n",
    "import matplotlib.pyplot as plt\n",
    "\n",
    "\n",
    "# k_off = 0.1\n",
    "seeds = [1230, 1231, 1232, 1233, 1234]\n",
    "\n",
    "ar = []\n",
    "\n",
    "for seed in seeds:\n",
    "\n",
    "    tifFile_MT = f\"b_{k_off}_{seed}.tif\"\n",
    "    \n",
    "    full_tif_path = os.path.join(data_dir, tifFile_MT)\n",
    "    imageData_MT = Image.open(full_tif_path)\n",
    "    \n",
    "\n",
    "    major = []\n",
    "    minor = []\n",
    "\n",
    "    planeNo = imageData_MT.n_frames\n",
    "\n",
    "\n",
    "    \n",
    "    imageData_MT.seek(planeNo - 1)\n",
    "    I0 = np.array(imageData_MT)\n",
    "\n",
    "    I0 = gaussian_filter(I0, sigma=2)\n",
    "\n",
    "    I0 = np.max(I0) - I0\n",
    "    I = (I0 - np.min(I0)) / (np.max(I0) - np.min(I0)) * 255\n",
    "\n",
    "    I = gaussian_filter(I, sigma=10)\n",
    "\n",
    "    thresholdValue = threshold_otsu(I)\n",
    "    bw = (I >= thresholdValue).astype(np.uint8) * 255\n",
    "\n",
    "    bw3 = binary_opening(bw, structure=np.ones((5, 5)))\n",
    "\n",
    "    labeled_bw, num_labels = label(bw3, connectivity=2, return_num=True)\n",
    "    properties = regionprops(labeled_bw)\n",
    "\n",
    "    for prop in properties:\n",
    "        a, b = prop.major_axis_length / 2, prop.minor_axis_length / 2\n",
    "        major.append(2 * max(a, b))\n",
    "        minor.append(2 * min(a, b))\n",
    "\n",
    "    ar.append(np.array(minor) / np.array(major))\n",
    "\n",
    "\n",
    "np.savez(f\"aspect_ratio_k_off_{k_off}.npz\", ar = ar)"
   ]
  },
  {
   "cell_type": "code",
   "execution_count": 82,
   "metadata": {},
   "outputs": [],
   "source": [
    "k_offs = [0.0035, 0.01, 0.05, 0.1]\n",
    "\n",
    "data_arr = np.zeros([len(k_offs), len(seeds)])\n",
    "\n",
    "for k_off in range(len(k_offs)):\n",
    "    data_arr[k_off, :] = np.squeeze(np.load(f\"aspect_ratio_k_off_{k_offs[k_off]}.npz\")['ar'])\n",
    "\n",
    "    \n",
    "np.savez(\"aspect_ratio_all.npz\", data_arr = data_arr)"
   ]
  },
  {
   "cell_type": "code",
   "execution_count": 83,
   "metadata": {},
   "outputs": [
    {
     "data": {
      "text/plain": [
       "array([[0.45205097, 0.52646186, 0.44231883, 0.45093623, 0.44011295],\n",
       "       [0.58337367, 0.47363716, 0.46772017, 0.66199987, 0.64266463],\n",
       "       [0.82969405, 0.76212486, 0.71579876, 0.7258692 , 0.88020733],\n",
       "       [0.94994361, 0.90469947, 0.66856649, 0.87499333, 0.92547342]])"
      ]
     },
     "execution_count": 83,
     "metadata": {},
     "output_type": "execute_result"
    }
   ],
   "source": [
    "data_arr"
   ]
  },
  {
   "cell_type": "code",
   "execution_count": 136,
   "metadata": {},
   "outputs": [
    {
     "data": {
      "image/png": "[encoded data removed]",
      "text/plain": [
       "<Figure size 648x432 with 1 Axes>"
      ]
     },
     "metadata": {
      "needs_background": "light"
     },
     "output_type": "display_data"
    }
   ],
   "source": [
    "mean_values = np.mean(data_arr, axis=1)\n",
    "std_values = np.std(data_arr, axis=1)\n",
    "\n",
    "plt.figure(figsize = (9, 6))\n",
    "plt.errorbar(k_offs, mean_values, yerr=std_values, fmt='o-', capsize=5, color = 'blue', ecolor='red', linewidth = 2, elinewidth=2, capthick=2)\n",
    "plt.xlabel('k_off')\n",
    "plt.ylabel('Aspect Ratio')\n",
    "# plt.title('Mean and Standard Deviation of Aspect Ratio')\n",
    "# plt.grid(True)\n",
    "plt.xlabel(\"k_off\", fontsize = 30)\n",
    "plt.ylabel(\"aspect ratio\", fontsize = 30)\n",
    "plt.tick_params(axis = 'x', labelsize = 25, width = 2)\n",
    "plt.tick_params(axis = 'y', labelsize = 25, width = 2)\n",
    "\n",
    "plt.gca().spines['left'].set_linewidth(2)  # Set left axis line width\n",
    "plt.gca().spines['bottom'].set_linewidth(2)  # Set bottom axis line width\n",
    "plt.gca().spines['right'].set_linewidth(2)  # Set right axis line width\n",
    "plt.gca().spines['top'].set_linewidth(2)  # Set top axis line width\n",
    "plt.tight_layout()\n",
    "plt.savefig(\"ar_k_off.png\", dpi = 300)\n",
    "\n",
    "plt.show()"
   ]
  },
  {
   "cell_type": "code",
   "execution_count": 122,
   "metadata": {},
   "outputs": [
    {
     "name": "stderr",
     "output_type": "stream",
     "text": [
      "<ipython-input-122-7a1094fa8cea>:33: MatplotlibDeprecationWarning: savefig() got unexpected keyword argument \"dp\" which is no longer supported as of 3.3 and will become an error two minor releases later\n",
      "  plt.savefig(\"time_0.png\", dp = 300)\n"
     ]
    },
    {
     "data": {
      "image/png": "[encoded data removed]",
      "text/plain": [
       "<Figure size 576x576 with 1 Axes>"
      ]
     },
     "metadata": {
      "needs_background": "light"
     },
     "output_type": "display_data"
    }
   ],
   "source": [
    "\n",
    "tifFile_MT = f\"b_{k_off}_{seed}.tif\"\n",
    "    \n",
    "full_tif_path = os.path.join(data_dir, tifFile_MT)\n",
    "imageData_MT = Image.open(full_tif_path)\n",
    "\n",
    "\n",
    "major = []\n",
    "minor = []\n",
    "\n",
    "# planeNo = imageData_MT.n_frames\n",
    "\n",
    "plt.figure(figsize = (8, 8))\n",
    "planeNo = 1\n",
    "\n",
    "imageData_MT.seek(planeNo - 1)\n",
    "I0 = np.array(imageData_MT)\n",
    "\n",
    "I0 = gaussian_filter(I0, sigma=2)\n",
    "\n",
    "I0 = np.max(I0) - I0\n",
    "I = (I0 - np.min(I0)) / (np.max(I0) - np.min(I0)) * 255\n",
    "\n",
    "I = gaussian_filter(I, sigma=10)\n",
    "\n",
    "thresholdValue = threshold_otsu(I)\n",
    "bw = (I >= thresholdValue).astype(np.uint8) * 255\n",
    "\n",
    "bw3 = binary_opening(bw, structure=np.ones((5, 5)))\n",
    "plt.axis('off')\n",
    "\n",
    "plt.pcolor(bw3)\n",
    "plt.tight_layout()\n",
    "plt.savefig(\"time_0.png\", dp = 300)"
   ]
  },
  {
   "cell_type": "code",
   "execution_count": null,
   "metadata": {},
   "outputs": [],
   "source": []
  }
 ],
 "metadata": {
  "kernelspec": {
   "display_name": "Python 3",
   "language": "python",
   "name": "python3"
  },
  "language_info": {
   "codemirror_mode": {
    "name": "ipython",
    "version": 3
   },
   "file_extension": ".py",
   "mimetype": "text/x-python",
   "name": "python",
   "nbconvert_exporter": "python",
   "pygments_lexer": "ipython3",
   "version": "3.8.5"
  }
 },
 "nbformat": 4,
 "nbformat_minor": 4
}
